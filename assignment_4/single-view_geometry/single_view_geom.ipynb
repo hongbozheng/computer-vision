{
 "cells": [
  {
   "cell_type": "markdown",
   "metadata": {},
   "source": [
    "# Part 3: Single-View Geometry\n",
    "\n",
    "## Usage\n",
    "This code snippet provides an overall code structure and some interactive plot interfaces for the *Single-View Geometry* section of Assignment 3. In [main function](#Main-function), we outline the required functionalities step by step. Some of the functions which involves interactive plots are already provided, but [the rest](#Your-implementation) are left for you to implement.\n",
    "\n",
    "## Package installation\n",
    "- In this code, we use `tkinter` package. Installation instruction can be found [here](https://anaconda.org/anaconda/tk)."
   ]
  },
  {
   "cell_type": "markdown",
   "metadata": {},
   "source": [
    "# Common imports"
   ]
  },
  {
   "cell_type": "code",
   "execution_count": 1,
   "metadata": {},
   "outputs": [],
   "source": [
    "%matplotlib tk\n",
    "import matplotlib.pyplot\n",
    "import numpy\n",
    "import PIL.Image\n",
    "import scipy\n",
    "\n",
    "from sympy import Matrix, solve, symbols"
   ]
  },
  {
   "cell_type": "markdown",
   "metadata": {},
   "source": [
    "# Provided functions"
   ]
  },
  {
   "cell_type": "code",
   "execution_count": 2,
   "metadata": {},
   "outputs": [],
   "source": [
    "def get_input_lines(mat: numpy.array, min_lines: int=3) -> tuple[numpy.ndarray, numpy.ndarray, numpy.ndarray]:\n",
    "    \"\"\"\n",
    "    Allows user to input line segments; computes centers and directions.\n",
    "    Inputs:\n",
    "        im: np.ndarray of shape (height, width, 3)\n",
    "        min_lines: minimum number of lines required\n",
    "    Returns:\n",
    "        n: number of lines from input\n",
    "        lines: np.ndarray of shape (3, n)\n",
    "            where each column denotes the parameters of the line equation\n",
    "        centers: np.ndarray of shape (3, n)\n",
    "            where each column denotes the homogeneous coordinates of the centers\n",
    "    \"\"\"\n",
    "    n = 0\n",
    "    lines = numpy.zeros((3, 0))\n",
    "    centers = numpy.zeros((3, 0))\n",
    "\n",
    "    matplotlib.pyplot.figure()\n",
    "    matplotlib.pyplot.imshow(mat)\n",
    "\n",
    "    print(\"[INFO]: Set at least %d lines to compute vanishing point\" % min_lines)\n",
    "    while True:\n",
    "        print(\"[INFO]: Click the two endpoints, use the right key to undo, and use the middle key to stop input\")\n",
    "        clicked = matplotlib.pyplot.ginput(2, timeout=0, show_clicks=True)\n",
    "        if not clicked or len(clicked) < 2:\n",
    "            if n < min_lines:\n",
    "                print(\"[INFO]: Need at least %d lines, you have %d now\" % (min_lines, n))\n",
    "                continue\n",
    "            else:\n",
    "                # stop getting lines if number of lines is enough\n",
    "                break\n",
    "\n",
    "        # unpack user inputs and save as homogeneous coordinates\n",
    "        pt1 = numpy.array(object=[clicked[0][0], clicked[0][1], 1])\n",
    "        pt2 = numpy.array(object=[clicked[1][0], clicked[1][1], 1])\n",
    "        # get line equation using cross product\n",
    "        # line equation: line[0] * x + line[1] * y + line[2] = 0\n",
    "        line = numpy.cross(a=pt1, b=pt2)\n",
    "        lines = numpy.append(arr=lines, values=line.reshape((3, 1)), axis=1)\n",
    "        # get center coordinate of the line segment\n",
    "        center = (pt1 + pt2) / 2\n",
    "        centers = numpy.append(arr=centers, values=center.reshape((3, 1)), axis=1)\n",
    "\n",
    "        # plot line segment\n",
    "        matplotlib.pyplot.plot([pt1[0], pt2[0]], [pt1[1], pt2[1]], color=\"cyan\", linestyle='-', linewidth=1)\n",
    "\n",
    "        n += 1\n",
    "\n",
    "    return n, lines, centers"
   ]
  },
  {
   "cell_type": "code",
   "execution_count": 3,
   "metadata": {},
   "outputs": [],
   "source": [
    "def plt_lines_vp(mat: numpy.ndarray, lines: numpy.ndarray, vp: numpy.ndarray) -> None:\n",
    "    \"\"\"\n",
    "    Plots user-input lines and the calculated vanishing point.\n",
    "    Inputs:\n",
    "        im: np.ndarray of shape (height, width, 3)\n",
    "        lines: np.ndarray of shape (3, n)\n",
    "            where each column denotes the parameters of the line equation\n",
    "        vp: np.ndarray of shape (3, )\n",
    "    \"\"\"\n",
    "    bx1 = min(1, vp[0] / vp[2]) - 10\n",
    "    bx2 = max(mat.shape[1], vp[0] / vp[2]) + 10\n",
    "    by1 = min(1, vp[1] / vp[2]) - 10\n",
    "    by2 = max(mat.shape[0], vp[1] / vp[2]) + 10\n",
    "\n",
    "    matplotlib.pyplot.rc(group=\"font\", family=\"serif\")\n",
    "    matplotlib.pyplot.rc(group=\"text\", usetex=True)\n",
    "    matplotlib.pyplot.figure()\n",
    "    matplotlib.pyplot.imshow(X=mat)\n",
    "    for i in range(lines.shape[1]):\n",
    "        if lines[0, i] < lines[1, i]:\n",
    "            pt1 = numpy.cross(a=numpy.array([1, 0, -bx1]), b=lines[:, i])\n",
    "            pt2 = numpy.cross(a=numpy.array([1, 0, -bx2]), b=lines[:, i])\n",
    "        else:\n",
    "            pt1 = numpy.cross(a=numpy.array([0, 1, -by1]), b=lines[:, i])\n",
    "            pt2 = numpy.cross(a=numpy.array([0, 1, -by2]), b=lines[:, i])\n",
    "        pt1 = pt1 / pt1[2]\n",
    "        pt2 = pt2 / pt2[2]\n",
    "        matplotlib.pyplot.plot([pt1[0], pt2[0]], [pt1[1], pt2[1]], color=\"cyan\")\n",
    "\n",
    "    matplotlib.pyplot.plot(vp[0] / vp[2], vp[1] / vp[2], color=\"orangered\", marker='o')\n",
    "    matplotlib.pyplot.title(r\"Vanishing Point Coordinate: $%f, %f$\" % (vp[0], vp[1]))\n",
    "    matplotlib.pyplot.show()\n",
    "\n",
    "    return"
   ]
  },
  {
   "cell_type": "code",
   "execution_count": 4,
   "metadata": {},
   "outputs": [],
   "source": [
    "def get_top_btm_coords(mat: numpy.ndarray, obj: str) -> numpy.ndarray:\n",
    "    \"\"\"\n",
    "    For a specific object, prompts user to record the top coordinate and the bottom coordinate in the image.\n",
    "    Inputs:\n",
    "        im: np.ndarray of shape (height, width, 3)\n",
    "        obj: string, object name\n",
    "    Returns:\n",
    "        coord: np.ndarray of shape (3, 2)\n",
    "               where coord[:, 0] is the homogeneous coordinate of the top of the object and coord[:, 1] is\n",
    "               the homogeneous coordinate of the bottom\n",
    "    \"\"\"\n",
    "    matplotlib.pyplot.figure()\n",
    "    matplotlib.pyplot.imshow(mat)\n",
    "\n",
    "    print(\"[INFO]: Click on the top coordinate of %s\" % obj)\n",
    "    clicked = matplotlib.pyplot.ginput(1, timeout=0, show_clicks=True)\n",
    "    x1, y1 = clicked[0]\n",
    "    # uncomment this line \"to enable a vertical line to help align the two coordinates\n",
    "    # plt.plot([x1, x1], [0, im.shape[0]], 'b')\n",
    "    print(\"[INFO]: Click on the bottom coordinate of %s\" % obj)\n",
    "    clicked = matplotlib.pyplot.ginput(1, timeout=0, show_clicks=True)\n",
    "    x2, y2 = clicked[0]\n",
    "\n",
    "    matplotlib.pyplot.plot([x1, x2], [y1, y2], color=\"yellow\")\n",
    "\n",
    "    return numpy.array([[x1, x2], [y1, y2], [1, 1]])"
   ]
  },
  {
   "cell_type": "markdown",
   "metadata": {},
   "source": [
    "# Your implementation"
   ]
  },
  {
   "cell_type": "code",
   "execution_count": 5,
   "metadata": {},
   "outputs": [],
   "source": [
    "def get_vanishing_pt(lines: numpy.ndarray) -> numpy.ndarray:\n",
    "    \"\"\"\n",
    "    Solves for the vanishing point using the user-input lines.\n",
    "    Input:\n",
    "        lines: np.ndarray of shape (3, n) where each column denotes the parameters of the line equation\n",
    "               Line equation: line[0] * x + line[1] * y + line[2] = 0\n",
    "    Return:\n",
    "        eigvec: vanishing point\n",
    "    \"\"\"\n",
    "    gram_mat = lines@lines.T\n",
    "    eigvals, eigvecs = scipy.linalg.eig(a=gram_mat)\n",
    "    idx = numpy.argmin(a=eigvals)\n",
    "    eigvec = eigvecs[:, idx]\n",
    "    eigvec /= eigvec[-1]\n",
    "\n",
    "    return eigvec"
   ]
  },
  {
   "cell_type": "code",
   "execution_count": 6,
   "metadata": {},
   "outputs": [],
   "source": [
    "def get_horizon_line(vpts: numpy.ndarray) -> numpy.ndarray:\n",
    "    \"\"\"\n",
    "    Calculates the ground horizon line.\n",
    "    Input:\n",
    "        vpts: vanishing points\n",
    "    Return:\n",
    "        line: np.ndarray of shape (3, 1) where each column denotes the parameters of the line equation\n",
    "              Line equation: line[0] * x + line[1] * y + line[2] = 0\n",
    "    \"\"\"\n",
    "    pt_0 = vpts[:, 0]\n",
    "    pt_1 = vpts[:, 1]\n",
    "    line = numpy.cross(a=pt_0, b=pt_1)\n",
    "    norm = scipy.linalg.norm(a=line[:2])\n",
    "    line = line/norm\n",
    "\n",
    "    return line"
   ]
  },
  {
   "cell_type": "code",
   "execution_count": 7,
   "metadata": {},
   "outputs": [],
   "source": [
    "def plt_horizon_line(mat: numpy.ndarray, line: numpy.ndarray) -> None:\n",
    "    \"\"\"\n",
    "    Plots the horizon line.\n",
    "    Inputs:\n",
    "        mat: image matrix\n",
    "        line: np.ndarray of shape (3, 1) where each column denotes the parameters of the line equation\n",
    "              Line equat\"on: line[0] * x + line[1] * y + line[2] = 0\n",
    "    Return:\n",
    "        None\n",
    "    \"\"\"\n",
    "    w = mat.shape[1]\n",
    "    x = numpy.arange(w)\n",
    "\n",
    "    y = (-line[0]*x-line[2])/line[1]\n",
    "\n",
    "    matplotlib.pyplot.rc(group=\"font\", family=\"serif\")\n",
    "    matplotlib.pyplot.rc(group=\"text\", usetex=True)\n",
    "    matplotlib.pyplot.figure()\n",
    "    matplotlib.pyplot.imshow(X=mat)\n",
    "    matplotlib.pyplot.plot(x, y, color=\"cyan\", linestyle='-', linewidth=2)\n",
    "    matplotlib.pyplot.title(r\"Horizon Line: $%fx+%fy+%f=0$\" % (line[0], line[1], line[2]))\n",
    "    matplotlib.pyplot.show()\n",
    "\n",
    "    return"
   ]
  },
  {
   "cell_type": "code",
   "execution_count": 8,
   "metadata": {},
   "outputs": [],
   "source": [
    "def get_camera_params(vpts: numpy.ndarray) -> tuple[float, float, float]:\n",
    "    \"\"\"\n",
    "    Computes the camera parameters. Hint: The SymPy package is suitable for this.\n",
    "    Input:\n",
    "        vpts: vanishing points\n",
    "    Return:\n",
    "        abs(f), px, py\n",
    "    \"\"\"\n",
    "    vp1 = vpts[:, 0].reshape((-1, 1))\n",
    "    vp2 = vpts[:, 1].reshape((-1, 1))\n",
    "    vp3 = vpts[:, 2].reshape((-1, 1))\n",
    "\n",
    "    f, px, py= symbols(\"f, px, py\")\n",
    "    K_inv = Matrix([[1/f, 0, -px/f], [0, 1/f, -py/f], [0, 0, 1]])\n",
    "\n",
    "    # v_i^TK^-TK^-1v_j\n",
    "    eq_0 = vp1.T@K_inv.T@K_inv@vp2\n",
    "    eq_1 = vp1.T@K_inv.T@K_inv@vp3\n",
    "    eq_2 = vp2.T@K_inv.T@K_inv@vp3\n",
    "\n",
    "    f, px, py = solve([eq_0[0], eq_1[0], eq_2[0]], (f, px, py))[0]\n",
    "\n",
    "    return abs(f), px, py"
   ]
  },
  {
   "cell_type": "code",
   "execution_count": 9,
   "metadata": {},
   "outputs": [],
   "source": [
    "def get_rotation_mat(vpts: numpy.ndarray, f: float, u: float, v: float) -> numpy.ndarray:\n",
    "    \"\"\"\n",
    "    Computes the rotation matrix using the camera parameters.\n",
    "    \"\"\"\n",
    "    Z = vpts[:, 0].reshape((-1, 1))\n",
    "    X = vpts[:, 1].reshape((-1, 1))\n",
    "    Y = vpts[:, 2].reshape((-1, 1))\n",
    "    \n",
    "    K = numpy.array([[f, 0, u], [0, f, v], [0, 0, 1]]).astype(numpy.float64)\n",
    "    K_inv = scipy.linalg.inv(a=K)\n",
    "\n",
    "    # r_i = K^-1v_i\n",
    "    r_1 = K_inv@X\n",
    "    r_2 = K_inv@Y\n",
    "    r_3 = K_inv@Z\n",
    "    \n",
    "    r_1 = r_1/scipy.linalg.norm(a=r_1)\n",
    "    r_2 = r_2/scipy.linalg.norm(a=r_2)\n",
    "    r_3 = r_3/scipy.linalg.norm(a=r_3)\n",
    "\n",
    "    R = numpy.concatenate((r_1, r_2, r_3), axis=1)\n",
    "\n",
    "    return R"
   ]
  },
  {
   "cell_type": "code",
   "execution_count": 10,
   "metadata": {},
   "outputs": [],
   "source": [
    "def cross_ratio(ref_coords: numpy.ndarray, obj_coords: numpy.ndarray, line: numpy.ndarray) -> float:\n",
    "    \"\"\"\n",
    "    Estimates height for a specific object using the recorded coordinates. You might need to plot additional images here for\n",
    "    your report.\n",
    "    \"\"\"\n",
    "    # z-axis\n",
    "    vp_z = vpts[:, 2]\n",
    "\n",
    "    # ref coords\n",
    "    ref_t = ref_coords[:, 0]\n",
    "    ref_b = ref_coords[:, 1]\n",
    "\n",
    "    # obj coords.\n",
    "    r = obj_coords[:, 0]\n",
    "    b = obj_coords[:, 1]\n",
    "\n",
    "    line_ref_obj = numpy.cross(a=ref_b, b=b)\n",
    "    v = numpy.cross(a=line_ref_obj, b=horizon_line)\n",
    "    v = v/v[-1]\n",
    "    \n",
    "    line_v_ref_t = numpy.cross(a=v, b=ref_t)\n",
    "    line_r_b = numpy.cross(a=r, b=b)\n",
    "    t = numpy.cross(a=line_v_ref_t, b=line_r_b)\n",
    "    t = t/t[-1]\n",
    "\n",
    "    ratio = (scipy.linalg.norm(r-b)*scipy.linalg.norm(vp_z-t)/\n",
    "             scipy.linalg.norm(t-b)/scipy.linalg.norm(vp_z-r))\n",
    "    \n",
    "    return ratio"
   ]
  },
  {
   "cell_type": "markdown",
   "metadata": {},
   "source": [
    "# Main function"
   ]
  },
  {
   "cell_type": "code",
   "execution_count": 11,
   "metadata": {},
   "outputs": [
    {
     "name": "stdout",
     "output_type": "stream",
     "text": [
      "[INFO]: Getting vanishing point 0\n",
      "[INFO]: Set at least 3 lines to compute vanishing point\n",
      "[INFO]: Click the two endpoints, use the right key to undo, and use the middle key to stop input\n",
      "[INFO]: Click the two endpoints, use the right key to undo, and use the middle key to stop input\n",
      "[INFO]: Click the two endpoints, use the right key to undo, and use the middle key to stop input\n",
      "[INFO]: Click the two endpoints, use the right key to undo, and use the middle key to stop input\n",
      "[INFO]: Click the two endpoints, use the right key to undo, and use the middle key to stop input\n",
      "[INFO]: Click the two endpoints, use the right key to undo, and use the middle key to stop input\n",
      "[INFO]: Getting vanishing point 1\n",
      "[INFO]: Set at least 3 lines to compute vanishing point\n",
      "[INFO]: Click the two endpoints, use the right key to undo, and use the middle key to stop input\n"
     ]
    },
    {
     "name": "stderr",
     "output_type": "stream",
     "text": [
      "2023-11-27 10:06:19.950 python[1734:184422] +[CATransaction synchronize] called within transaction\n",
      "2023-11-27 10:06:27.813 python[1734:184422] +[CATransaction synchronize] called within transaction\n",
      "2023-11-27 10:06:53.579 python[1734:184422] +[CATransaction synchronize] called within transaction\n"
     ]
    },
    {
     "name": "stdout",
     "output_type": "stream",
     "text": [
      "[INFO]: Click the two endpoints, use the right key to undo, and use the middle key to stop input\n",
      "[INFO]: Click the two endpoints, use the right key to undo, and use the middle key to stop input\n",
      "[INFO]: Click the two endpoints, use the right key to undo, and use the middle key to stop input\n",
      "[INFO]: Click the two endpoints, use the right key to undo, and use the middle key to stop input\n",
      "[INFO]: Click the two endpoints, use the right key to undo, and use the middle key to stop input\n",
      "[INFO]: Getting vanishing point 2\n",
      "[INFO]: Set at least 3 lines to compute vanishing point\n",
      "[INFO]: Click the two endpoints, use the right key to undo, and use the middle key to stop input\n"
     ]
    },
    {
     "name": "stderr",
     "output_type": "stream",
     "text": [
      "2023-11-27 10:09:16.550 python[1734:184422] +[CATransaction synchronize] called within transaction\n"
     ]
    },
    {
     "name": "stdout",
     "output_type": "stream",
     "text": [
      "[INFO]: Click the two endpoints, use the right key to undo, and use the middle key to stop input\n",
      "[INFO]: Click the two endpoints, use the right key to undo, and use the middle key to stop input\n",
      "[INFO]: Click the two endpoints, use the right key to undo, and use the middle key to stop input\n",
      "[INFO]: Click the two endpoints, use the right key to undo, and use the middle key to stop input\n"
     ]
    },
    {
     "name": "stderr",
     "output_type": "stream",
     "text": [
      "2023-11-27 10:10:15.802 python[1734:184422] +[CATransaction synchronize] called within transaction\n"
     ]
    }
   ],
   "source": [
    "mat = numpy.asarray(a=PIL.Image.open('images/CSL.jpeg'))\n",
    "\n",
    "# part 1\n",
    "# get vanishing points for each of the directions\n",
    "num_vpts = 3\n",
    "vpts = numpy.zeros(shape=(3, num_vpts))\n",
    "for i in range(num_vpts):\n",
    "    print(\"[INFO]: Getting vanishing point %d\" % i)\n",
    "    # get at least three lines from user input\n",
    "    n, lines, centers = get_input_lines(mat=mat)\n",
    "    # solve for vanishing point\n",
    "    vpts[:, i] = get_vanishing_pt(lines=lines)\n",
    "    # plot the lines and the vanishing point\n",
    "    plt_lines_vp(mat=mat, lines=lines, vp=vpts[:, i])"
   ]
  },
  {
   "cell_type": "code",
   "execution_count": 12,
   "metadata": {},
   "outputs": [
    {
     "name": "stderr",
     "output_type": "stream",
     "text": [
      "2023-11-27 10:10:57.239 python[1734:184422] +[CATransaction synchronize] called within transaction\n"
     ]
    }
   ],
   "source": [
    "# get the ground horizon line\n",
    "horizon_line = get_horizon_line(vpts=vpts)\n",
    "# plot the ground horizon line\n",
    "plt_horizon_line(mat=mat, line=horizon_line)"
   ]
  },
  {
   "cell_type": "code",
   "execution_count": 13,
   "metadata": {},
   "outputs": [
    {
     "name": "stdout",
     "output_type": "stream",
     "text": [
      "[INFO]: Focal length   (f)   = 778.240162\n",
      "[INFO]: Optical center (u,v) = 616.604950, 326.968426\n"
     ]
    }
   ],
   "source": [
    "# part 2\n",
    "# solve for the camera parameters (f, u, v)\n",
    "f, u, v = get_camera_params(vpts=vpts)\n",
    "print(\"[INFO]: Focal length   (f)   = %f\" % f)\n",
    "print(\"[INFO]: Optical center (u,v) = %f, %f\" % (u, v))"
   ]
  },
  {
   "cell_type": "code",
   "execution_count": 14,
   "metadata": {},
   "outputs": [
    {
     "name": "stdout",
     "output_type": "stream",
     "text": [
      "[INFO]: R Matrix\n",
      "[[ 0.68661585 -0.0110659  -0.72693619]\n",
      " [-0.08934988  0.99101985 -0.09947993]\n",
      " [ 0.72150902  0.13325616  0.6794612 ]]\n"
     ]
    }
   ],
   "source": [
    "# part 3\n",
    "# solve for the rotation matrixåå\n",
    "R = get_rotation_mat(vpts=vpts, f=f, u=u, v=v)\n",
    "print(\"[INFO]: R Matrix\")\n",
    "print(R)"
   ]
  },
  {
   "cell_type": "code",
   "execution_count": 22,
   "metadata": {},
   "outputs": [
    {
     "name": "stdout",
     "output_type": "stream",
     "text": [
      "[INFO]: Click on the top coordinate of Gable_0\n",
      "[INFO]: Click on the bottom coordinate of Gable_0\n",
      "[INFO]: Click on the top coordinate of Gable_1\n",
      "[INFO]: Click on the bottom coordinate of Gable_1\n",
      "[INFO]: Gable 0 coordinates\n",
      "[[508.03245865 507.06589659]\n",
      " [ 96.14044411 138.66917432]\n",
      " [  1.           1.        ]]\n",
      "[INFO]: Gable 1 coordinates\n",
      "[[900.9455353  899.03062179]\n",
      " [101.1373913  143.26548855]\n",
      " [  1.           1.        ]]\n",
      "[INFO]: The cross ratio is 0.993542\n"
     ]
    },
    {
     "name": "stderr",
     "output_type": "stream",
     "text": [
      "2023-11-27 10:18:36.937 python[1734:184422] +[CATransaction synchronize] called within transaction\n",
      "2023-11-27 10:18:41.381 python[1734:184422] +[CATransaction synchronize] called within transaction\n",
      "2023-11-27 10:18:42.338 python[1734:184422] +[CATransaction synchronize] called within transaction\n",
      "2023-11-27 10:18:42.600 python[1734:184422] +[CATransaction synchronize] called within transaction\n",
      "2023-11-27 10:18:45.350 python[1734:184422] +[CATransaction synchronize] called within transaction\n",
      "2023-11-27 10:18:48.655 python[1734:184422] +[CATransaction synchronize] called within transaction\n",
      "2023-11-27 10:18:49.389 python[1734:184422] +[CATransaction synchronize] called within transaction\n",
      "2023-11-27 10:18:49.656 python[1734:184422] +[CATransaction synchronize] called within transaction\n"
     ]
    }
   ],
   "source": [
    "# part 4\n",
    "# record image coordinates for each object and store in map\n",
    "objs = (\"Gable_0\", \"Gable_1\")\n",
    "coords = dict()\n",
    "for obj in objs:\n",
    "    coords[obj] = get_top_btm_coords(mat=mat, obj=obj)\n",
    "\n",
    "print(\"[INFO]: Gable 0 coordinates\")\n",
    "print(coords[\"Gable_0\"])\n",
    "print(\"[INFO]: Gable 1 coordinates\")\n",
    "print(coords[\"Gable_1\"])\n",
    "\n",
    "# estimate heights\n",
    "ratio = cross_ratio(ref_coords=coords[\"Gable_0\"], obj_coords=coords[\"Gable_1\"], line=horizon_line)\n",
    "print(\"[INFO]: The cross ratio is %f\" % ratio)"
   ]
  }
 ],
 "metadata": {
  "kernelspec": {
   "display_name": "Python 3 (ipykernel)",
   "language": "python",
   "name": "python3"
  },
  "language_info": {
   "codemirror_mode": {
    "name": "ipython",
    "version": 3
   },
   "file_extension": ".py",
   "mimetype": "text/x-python",
   "name": "python",
   "nbconvert_exporter": "python",
   "pygments_lexer": "ipython3",
   "version": "3.11.4"
  }
 },
 "nbformat": 4,
 "nbformat_minor": 2
}
